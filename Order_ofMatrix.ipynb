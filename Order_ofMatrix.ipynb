{
 "metadata": {
  "name": "",
  "signature": "sha256:dd39442711b274b89ab3f1f050e056c59e34f0c2de1add7fe0a892a1a2e9ce38"
 },
 "nbformat": 3,
 "nbformat_minor": 0,
 "worksheets": [
  {
   "cells": [
    {
     "cell_type": "code",
     "collapsed": false,
     "input": [
      "import numpy as np"
     ],
     "language": "python",
     "metadata": {},
     "outputs": [],
     "prompt_number": 4
    },
    {
     "cell_type": "code",
     "collapsed": false,
     "input": [
      "#A=(M*N) B=(N*K)\n",
      "\n",
      "#M=2, N=3, K=4\n",
      "#A=[2,3]\n",
      "A=[[2,3,1],[1,2,1]]"
     ],
     "language": "python",
     "metadata": {},
     "outputs": [],
     "prompt_number": 16
    },
    {
     "cell_type": "code",
     "collapsed": false,
     "input": [
      "np.array(A)"
     ],
     "language": "python",
     "metadata": {},
     "outputs": [
      {
       "metadata": {},
       "output_type": "pyout",
       "prompt_number": 17,
       "text": [
        "array([[2, 3, 1],\n",
        "       [1, 2, 1]])"
       ]
      }
     ],
     "prompt_number": 17
    },
    {
     "cell_type": "code",
     "collapsed": false,
     "input": [
      "A=np.matrix(A)"
     ],
     "language": "python",
     "metadata": {},
     "outputs": [],
     "prompt_number": 18
    },
    {
     "cell_type": "code",
     "collapsed": false,
     "input": [
      "B=[[1,2,3,4],[4,3,2,1],[1,1,2,2]]"
     ],
     "language": "python",
     "metadata": {},
     "outputs": [],
     "prompt_number": 42
    },
    {
     "cell_type": "code",
     "collapsed": false,
     "input": [
      "B=np.matrix(B)\n",
      "B"
     ],
     "language": "python",
     "metadata": {},
     "outputs": [
      {
       "metadata": {},
       "output_type": "pyout",
       "prompt_number": 43,
       "text": [
        "matrix([[1, 2, 3, 4],\n",
        "        [4, 3, 2, 1],\n",
        "        [1, 1, 2, 2]])"
       ]
      }
     ],
     "prompt_number": 43
    },
    {
     "cell_type": "code",
     "collapsed": false,
     "input": [
      "A.dot(B)"
     ],
     "language": "python",
     "metadata": {},
     "outputs": [
      {
       "metadata": {},
       "output_type": "pyout",
       "prompt_number": 44,
       "text": [
        "matrix([[15, 14, 14, 13],\n",
        "        [10,  9,  9,  8]])"
       ]
      }
     ],
     "prompt_number": 44
    },
    {
     "cell_type": "code",
     "collapsed": false,
     "input": [
      "B[0,:]"
     ],
     "language": "python",
     "metadata": {},
     "outputs": [
      {
       "metadata": {},
       "output_type": "pyout",
       "prompt_number": 48,
       "text": [
        "matrix([[1, 2, 3, 4]])"
       ]
      }
     ],
     "prompt_number": 48
    },
    {
     "cell_type": "code",
     "collapsed": false,
     "input": [
      "np.zeros([len(A[:,0]),4])"
     ],
     "language": "python",
     "metadata": {},
     "outputs": [
      {
       "metadata": {},
       "output_type": "pyout",
       "prompt_number": 49,
       "text": [
        "array([[ 0.],\n",
        "       [ 0.]])"
       ]
      }
     ],
     "prompt_number": 49
    },
    {
     "cell_type": "code",
     "collapsed": false,
     "input": [
      "C=np.matrix(np.zeros([len(A[:,0]),4]))\n",
      "for i in range(len(A[:,0])):#2\n",
      "    for b in range(4):\n",
      "        C[i,b]=0\n",
      "        for a in range(3): \n",
      "                \n",
      "                C[i,b]=C[i,b]+A[i,a]*B[a,b]\n",
      "                print \"C\",i,b,\"  \",C[i,b]"
     ],
     "language": "python",
     "metadata": {},
     "outputs": [
      {
       "output_type": "stream",
       "stream": "stdout",
       "text": [
        "C 0 0    2.0\n",
        "C 0 0    14.0\n",
        "C 0 0    15.0\n",
        "C 0 1    4.0\n",
        "C 0 1    13.0\n",
        "C 0 1    14.0\n",
        "C 0 2    6.0\n",
        "C 0 2    12.0\n",
        "C 0 2    14.0\n",
        "C 0 3    8.0\n",
        "C 0 3    11.0\n",
        "C 0 3    13.0\n",
        "C 1 0    1.0\n",
        "C 1 0    9.0\n",
        "C 1 0    10.0\n",
        "C 1 1    2.0\n",
        "C 1 1    8.0\n",
        "C 1 1    9.0\n",
        "C 1 2    3.0\n",
        "C 1 2    7.0\n",
        "C 1 2    9.0\n",
        "C 1 3    4.0\n",
        "C 1 3    6.0\n",
        "C 1 3    8.0\n"
       ]
      }
     ],
     "prompt_number": 66
    },
    {
     "cell_type": "code",
     "collapsed": false,
     "input": [
      "C"
     ],
     "language": "python",
     "metadata": {},
     "outputs": [
      {
       "metadata": {},
       "output_type": "pyout",
       "prompt_number": 67,
       "text": [
        "matrix([[ 15.,  14.,  14.,  13.],\n",
        "        [ 10.,   9.,   9.,   8.]])"
       ]
      }
     ],
     "prompt_number": 67
    },
    {
     "cell_type": "code",
     "collapsed": false,
     "input": [],
     "language": "python",
     "metadata": {},
     "outputs": []
    }
   ],
   "metadata": {}
  }
 ]
}