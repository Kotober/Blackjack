{
 "metadata": {
  "name": "",
  "signature": "sha256:424702d732f538eb42083632aea9142f6b2bcb29eed8408d2b53de44b0770ed2"
 },
 "nbformat": 3,
 "nbformat_minor": 0,
 "worksheets": [
  {
   "cells": [
    {
     "cell_type": "code",
     "collapsed": false,
     "input": [
      "import matplotlib.pyplot as plt\n",
      "list1= [3.03,5.53,5.6,9.3,\n",
      "9.92,\n",
      "12.51,\n",
      "12.95,\n",
      "15.21,\n",
      "16.04,\n",
      "16.84,]\n"
     ],
     "language": "python",
     "metadata": {},
     "outputs": [],
     "prompt_number": 8
    },
    {
     "cell_type": "code",
     "collapsed": false,
     "input": [
      "list2=[3.19,\n",
      "4.26,\n",
      "4.47,\n",
      "4.53,\n",
      "4.67,\n",
      "4.69,\n",
      "12.78,\n",
      "6.79,\n",
      "9.37,\n",
      "12.75]"
     ],
     "language": "python",
     "metadata": {},
     "outputs": [],
     "prompt_number": 9
    },
    {
     "cell_type": "code",
     "collapsed": false,
     "input": [
      "plt.plot(list1)\n",
      "plt.plot(list2)\n",
      "#plt.hist(nparray,bins = 80)\n",
      "plt.title(\"graph_Ex1\")\n",
      "plt.xlabel(\"data1~10\")\n",
      "plt.ylabel(\"data\")\n",
      "plt.show()    "
     ],
     "language": "python",
     "metadata": {},
     "outputs": [],
     "prompt_number": 10
    },
    {
     "cell_type": "code",
     "collapsed": false,
     "input": [],
     "language": "python",
     "metadata": {},
     "outputs": []
    }
   ],
   "metadata": {}
  }
 ]
}