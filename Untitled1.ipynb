{
 "metadata": {
  "name": "",
  "signature": "sha256:f41e5f46c28865f619185eb1803fd9485d903b9e5dfb691eee84a5e92b26ad18"
 },
 "nbformat": 3,
 "nbformat_minor": 0,
 "worksheets": [
  {
   "cells": [
    {
     "cell_type": "code",
     "collapsed": false,
     "input": [
      "import numpy as np\n",
      "\n",
      "def equal_b_a(pclist_before,pclist_after):\n",
      "    print \"----def equal_b_a-------\"\n",
      "    print \"b\",pclist_before\n",
      "    print \"a\",pclist_after\n",
      "    for i in range(len(pclist_before)):\n",
      "        print len(pclist_before[i][1]), len(pclist_after[i][1])\n",
      "        if len(pclist_before[i][1]) != len(pclist_after[i][1]) or len(pclist_before) != len(pclist_after):\n",
      "            return False\n",
      "    return True\n",
      "\n",
      "\n",
      "#pclist =[]\n",
      "\n",
      "def pplay(pclist3,dealercard):\n",
      "    global pclist_before1\n",
      "    pclist_before1 = pclist3[:]\n",
      "    \n",
      "    Flag = False\n",
      "    \n",
      "    while not Flag:\n",
      "        print \"before\",pclist_before1,\"id\",id(pclist_before1)\n",
      "        bbb = pclist_before1[:]\n",
      "        fuckoff = []\n",
      "        fuckoff[0][0]=100\n",
      "        print \"fuckoff\", fuckoff,\"id\",id(fuckoff)\n",
      "        print \"before_2\",pclist_before1,\"id\",id(pclist_before1)\n",
      "        print \"bbb\",bbb,\"id\",id(bbb)\n",
      "        Flag = equal_b_a(pclist_before1,fuckoff)\n",
      "        print \"Flag\",Flag, \"notFlag\" , not Flag\n",
      "        pclist_before1 = fuckoff[:]\n",
      "    return fuckoff\n",
      "        "
     ],
     "language": "python",
     "metadata": {},
     "outputs": [],
     "prompt_number": 2
    },
    {
     "cell_type": "code",
     "collapsed": false,
     "input": [
      "playercard = np.array([4,9],dtype=int)\n",
      "#playercard = np.append(playercard,draw(deck))\n",
      "pclist=[[10,playercard]]\n",
      "dealercard = np.array([1,6],dtype=int)\n",
      "#dealercard = dplay(dealercard)\n",
      "pclist = pplay(pclist,dealercard)\n",
      "money = judge(pclist,dealercard)\n",
      "print dealercard,pclist\n",
      "money"
     ],
     "language": "python",
     "metadata": {},
     "outputs": [
      {
       "output_type": "stream",
       "stream": "stdout",
       "text": [
        "before [[10, array([4, 9])]] id 67068296\n"
       ]
      },
      {
       "ename": "NameError",
       "evalue": "global name 'fuckoff' is not defined",
       "output_type": "pyerr",
       "traceback": [
        "\u001b[1;31m---------------------------------------------------------------------------\u001b[0m\n\u001b[1;31mNameError\u001b[0m                                 Traceback (most recent call last)",
        "\u001b[1;32m<ipython-input-9-6805fc37461b>\u001b[0m in \u001b[0;36m<module>\u001b[1;34m()\u001b[0m\n\u001b[0;32m      4\u001b[0m \u001b[0mdealercard\u001b[0m \u001b[1;33m=\u001b[0m \u001b[0mnp\u001b[0m\u001b[1;33m.\u001b[0m\u001b[0marray\u001b[0m\u001b[1;33m(\u001b[0m\u001b[1;33m[\u001b[0m\u001b[1;36m1\u001b[0m\u001b[1;33m,\u001b[0m\u001b[1;36m6\u001b[0m\u001b[1;33m]\u001b[0m\u001b[1;33m,\u001b[0m\u001b[0mdtype\u001b[0m\u001b[1;33m=\u001b[0m\u001b[0mint\u001b[0m\u001b[1;33m)\u001b[0m\u001b[1;33m\u001b[0m\u001b[0m\n\u001b[0;32m      5\u001b[0m \u001b[1;31m#dealercard = dplay(dealercard)\u001b[0m\u001b[1;33m\u001b[0m\u001b[1;33m\u001b[0m\u001b[0m\n\u001b[1;32m----> 6\u001b[1;33m \u001b[0mpclist\u001b[0m \u001b[1;33m=\u001b[0m \u001b[0mpplay\u001b[0m\u001b[1;33m(\u001b[0m\u001b[0mpclist\u001b[0m\u001b[1;33m,\u001b[0m\u001b[0mdealercard\u001b[0m\u001b[1;33m)\u001b[0m\u001b[1;33m\u001b[0m\u001b[0m\n\u001b[0m\u001b[0;32m      7\u001b[0m \u001b[0mmoney\u001b[0m \u001b[1;33m=\u001b[0m \u001b[0mjudge\u001b[0m\u001b[1;33m(\u001b[0m\u001b[0mpclist\u001b[0m\u001b[1;33m,\u001b[0m\u001b[0mdealercard\u001b[0m\u001b[1;33m)\u001b[0m\u001b[1;33m\u001b[0m\u001b[0m\n\u001b[0;32m      8\u001b[0m \u001b[1;32mprint\u001b[0m \u001b[0mdealercard\u001b[0m\u001b[1;33m,\u001b[0m\u001b[0mpclist\u001b[0m\u001b[1;33m\u001b[0m\u001b[0m\n",
        "\u001b[1;32m<ipython-input-8-1ef2be8ed8ac>\u001b[0m in \u001b[0;36mpplay\u001b[1;34m(pclist3, dealercard)\u001b[0m\n\u001b[0;32m     24\u001b[0m         \u001b[0mbbb\u001b[0m \u001b[1;33m=\u001b[0m \u001b[0mpclist_before1\u001b[0m\u001b[1;33m[\u001b[0m\u001b[1;33m:\u001b[0m\u001b[1;33m]\u001b[0m\u001b[1;33m\u001b[0m\u001b[0m\n\u001b[0;32m     25\u001b[0m \u001b[1;33m\u001b[0m\u001b[0m\n\u001b[1;32m---> 26\u001b[1;33m         \u001b[0mfuckoff\u001b[0m\u001b[1;33m[\u001b[0m\u001b[1;36m0\u001b[0m\u001b[1;33m]\u001b[0m\u001b[1;33m[\u001b[0m\u001b[1;36m0\u001b[0m\u001b[1;33m]\u001b[0m\u001b[1;33m=\u001b[0m\u001b[1;36m100\u001b[0m\u001b[1;33m\u001b[0m\u001b[0m\n\u001b[0m\u001b[0;32m     27\u001b[0m         \u001b[1;32mprint\u001b[0m \u001b[1;34m\"fuckoff\"\u001b[0m\u001b[1;33m,\u001b[0m \u001b[0mfuckoff\u001b[0m\u001b[1;33m,\u001b[0m\u001b[1;34m\"id\"\u001b[0m\u001b[1;33m,\u001b[0m\u001b[0mid\u001b[0m\u001b[1;33m(\u001b[0m\u001b[0mfuckoff\u001b[0m\u001b[1;33m)\u001b[0m\u001b[1;33m\u001b[0m\u001b[0m\n\u001b[0;32m     28\u001b[0m \u001b[1;33m\u001b[0m\u001b[0m\n",
        "\u001b[1;31mNameError\u001b[0m: global name 'fuckoff' is not defined"
       ]
      }
     ],
     "prompt_number": 9
    },
    {
     "cell_type": "code",
     "collapsed": false,
     "input": [
      "a = np.int64(5)\n",
      "print a\n",
      "print type(a)\n",
      "a"
     ],
     "language": "python",
     "metadata": {},
     "outputs": [
      {
       "output_type": "stream",
       "stream": "stdout",
       "text": [
        "5\n",
        "<type 'numpy.int64'>\n"
       ]
      },
      {
       "metadata": {},
       "output_type": "pyout",
       "prompt_number": 3,
       "text": [
        "5"
       ]
      }
     ],
     "prompt_number": 3
    },
    {
     "cell_type": "code",
     "collapsed": false,
     "input": [],
     "language": "python",
     "metadata": {},
     "outputs": [
      {
       "ename": "TypeError",
       "evalue": "can only concatenate list (not \"int\") to list",
       "output_type": "pyerr",
       "traceback": [
        "\u001b[1;31m---------------------------------------------------------------------------\u001b[0m\n\u001b[1;31mTypeError\u001b[0m                                 Traceback (most recent call last)",
        "\u001b[1;32m<ipython-input-10-51d619be2d94>\u001b[0m in \u001b[0;36m<module>\u001b[1;34m()\u001b[0m\n\u001b[1;32m----> 1\u001b[1;33m \u001b[0ma\u001b[0m \u001b[1;33m=\u001b[0m \u001b[0mnp\u001b[0m\u001b[1;33m.\u001b[0m\u001b[0mrandom\u001b[0m\u001b[1;33m.\u001b[0m\u001b[0mrandom_integers\u001b[0m\u001b[1;33m(\u001b[0m\u001b[1;33m[\u001b[0m\u001b[1;36m9\u001b[0m\u001b[1;33m,\u001b[0m\u001b[1;36m9\u001b[0m\u001b[1;33m]\u001b[0m\u001b[1;33m)\u001b[0m\u001b[1;31m# + 1j*np.random.randn(9, 6)\u001b[0m\u001b[1;33m\u001b[0m\u001b[0m\n\u001b[0m",
        "\u001b[1;32mC:\\Users\\kyoheikoyama\\Anaconda\\lib\\site-packages\\numpy\\random\\mtrand.pyd\u001b[0m in \u001b[0;36mmtrand.RandomState.random_integers (numpy\\random\\mtrand\\mtrand.c:11709)\u001b[1;34m()\u001b[0m\n",
        "\u001b[1;31mTypeError\u001b[0m: can only concatenate list (not \"int\") to list"
       ]
      }
     ],
     "prompt_number": 10
    },
    {
     "cell_type": "code",
     "collapsed": false,
     "input": [],
     "language": "python",
     "metadata": {},
     "outputs": [],
     "prompt_number": 8
    },
    {
     "cell_type": "code",
     "collapsed": false,
     "input": [
      "a"
     ],
     "language": "python",
     "metadata": {},
     "outputs": [
      {
       "metadata": {},
       "output_type": "pyout",
       "prompt_number": 9,
       "text": [
        "3"
       ]
      }
     ],
     "prompt_number": 9
    },
    {
     "cell_type": "code",
     "collapsed": false,
     "input": [
      "#a=np.array([[1,2,1],[3,0,1],[2,1,3]])\n",
      "a=np.array([[1,2],[3,4]])"
     ],
     "language": "python",
     "metadata": {},
     "outputs": [],
     "prompt_number": 24
    },
    {
     "cell_type": "code",
     "collapsed": false,
     "input": [
      "a"
     ],
     "language": "python",
     "metadata": {},
     "outputs": [
      {
       "metadata": {},
       "output_type": "pyout",
       "prompt_number": 25,
       "text": [
        "array([[1, 2],\n",
        "       [3, 4]])"
       ]
      }
     ],
     "prompt_number": 25
    },
    {
     "cell_type": "code",
     "collapsed": false,
     "input": [
      "a.T*a"
     ],
     "language": "python",
     "metadata": {},
     "outputs": [
      {
       "metadata": {},
       "output_type": "pyout",
       "prompt_number": 26,
       "text": [
        "array([[ 1,  6],\n",
        "       [ 6, 16]])"
       ]
      }
     ],
     "prompt_number": 26
    },
    {
     "cell_type": "code",
     "collapsed": false,
     "input": [
      "(a.T*a).trace()"
     ],
     "language": "python",
     "metadata": {},
     "outputs": [
      {
       "metadata": {},
       "output_type": "pyout",
       "prompt_number": 27,
       "text": [
        "17"
       ]
      }
     ],
     "prompt_number": 27
    },
    {
     "cell_type": "code",
     "collapsed": false,
     "input": [
      "l=0\n",
      "for i in range(len(a)):\n",
      "    for j in range(len(a[i])):\n",
      "        l=l+a[i][j]\n",
      "l"
     ],
     "language": "python",
     "metadata": {},
     "outputs": [
      {
       "metadata": {},
       "output_type": "pyout",
       "prompt_number": 23,
       "text": [
        "14"
       ]
      }
     ],
     "prompt_number": 23
    },
    {
     "cell_type": "code",
     "collapsed": false,
     "input": [],
     "language": "python",
     "metadata": {},
     "outputs": []
    }
   ],
   "metadata": {}
  }
 ]
}